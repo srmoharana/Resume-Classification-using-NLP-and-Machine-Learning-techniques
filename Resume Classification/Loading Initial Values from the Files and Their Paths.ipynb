{
 "cells": [
  {
   "cell_type": "markdown",
   "metadata": {},
   "source": [
    "## The Following notebook is aimed at helping out a beginner to load and access the data directly from the files by mentioning the path names. The file format used while importing is of JSON."
   ]
  },
  {
   "cell_type": "code",
   "execution_count": null,
   "metadata": {},
   "outputs": [],
   "source": [
    "#Import all the packages for the processing of datafiles\n",
    "import os\n",
    "import sys\n",
    "\n",
    "#Data wrangling and manipulation\n",
    "import pandas as pd\n",
    "import numpy as np\n",
    "import json\n",
    "from operator import itemgetter\n"
   ]
  },
  {
   "cell_type": "markdown",
   "metadata": {},
   "source": [
    "##### Loading the json files and retrieving the job titles and work experience"
   ]
  },
  {
   "cell_type": "code",
   "execution_count": null,
   "metadata": {},
   "outputs": [],
   "source": [
    "#Loading the json filescfrom mentioned path\n",
    "path = 'C:\\Users\\User\\Resume_Data_Science'     #Defining the path from where the data will be loaded\n",
    "\n",
    "#Declaring an Empty List to store values\n",
    "data_science = []                             #Store those job titles those are Data Scientist  \n",
    "data_analytic = []                            #Store those job titles those are Data Analyst\n",
    "\n",
    "#Defining a custom function named identify_title to get the proper identification for jobs\n",
    "def identify_title(name,path,list_name):\n",
    "    for file in os.listdir(path):\n",
    "        with open(os.path.join(path,file)) as f:\n",
    "            json_result = json.load(f)\n",
    "            if json_result['work_experience'] != 'NA':\n",
    "                for work_exp in json_result['work_experience']:\n",
    "                    if name in work_exp['title'].lower() :\n",
    "                        list_name.append((work_exp['title'], work_exp['description']))\n",
    "return list_name\n",
    "\n",
    "\n",
    "\n",
    "#Saving the returned values into the above mentioned lists\n",
    "data_science = identify_title('data scientist',path, data_science)\n",
    "data_analytic = identify_title('data analyst',path, data_analytic)"
   ]
  },
  {
   "cell_type": "markdown",
   "metadata": {},
   "source": [
    "## Removing any redundancy for any non-alphanumeric values. Storing the values in two separate dataframes. Converting the values stored in the dataframes into csv file format i.e, Comma Separated Values"
   ]
  },
  {
   "cell_type": "code",
   "execution_count": null,
   "metadata": {},
   "outputs": [],
   "source": [
    "#Removal of non-alphanumeric redundancies and saving the dataframes value onto a csv file\n",
    "doc_labels = ['title','description']\n",
    "\n",
    "#Converting the lists into DataFrames\n",
    "data_science_df = pd.DataFrame.from_records(data_science, columns = doc_labels)\n",
    "data_analytic_df = pd.DataFrame.from_records(data_analytic, columns = doc_labels)\n",
    "\n",
    "#Combining/Concatinating both the DataFrames into one and saving the result into a csv file\n",
    "job_desc_df = pd.concat([data_science_df,data_analytic_df], ignore_index = True)\n",
    "job_desc_df['description'].replace({r'[^a-zA-Z]+':' '}, regex = True, inplace = True)\n",
    "\n",
    "#Saving to a csv file\n",
    "job_desc_df.to_csv('job_desc.csv', index = False)\n",
    "\n"
   ]
  },
  {
   "cell_type": "code",
   "execution_count": null,
   "metadata": {},
   "outputs": [],
   "source": []
  },
  {
   "cell_type": "code",
   "execution_count": null,
   "metadata": {},
   "outputs": [],
   "source": []
  }
 ],
 "metadata": {
  "kernelspec": {
   "display_name": "Python 3",
   "language": "python",
   "name": "python3"
  },
  "language_info": {
   "codemirror_mode": {
    "name": "ipython",
    "version": 3
   },
   "file_extension": ".py",
   "mimetype": "text/x-python",
   "name": "python",
   "nbconvert_exporter": "python",
   "pygments_lexer": "ipython3",
   "version": "3.6.5"
  }
 },
 "nbformat": 4,
 "nbformat_minor": 2
}
